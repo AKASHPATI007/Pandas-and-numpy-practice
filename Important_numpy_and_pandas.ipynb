{
  "nbformat": 4,
  "nbformat_minor": 0,
  "metadata": {
    "colab": {
      "provenance": [],
      "authorship_tag": "ABX9TyP8LwBM7gLauvJ/Qggx/i4t",
      "include_colab_link": true
    },
    "kernelspec": {
      "name": "python3",
      "display_name": "Python 3"
    },
    "language_info": {
      "name": "python"
    }
  },
  "cells": [
    {
      "cell_type": "markdown",
      "metadata": {
        "id": "view-in-github",
        "colab_type": "text"
      },
      "source": [
        "<a href=\"https://colab.research.google.com/github/AKASHPATI007/Pandas-and-numpy-practice/blob/main/Important_numpy_and_pandas.ipynb\" target=\"_parent\"><img src=\"https://colab.research.google.com/assets/colab-badge.svg\" alt=\"Open In Colab\"/></a>"
      ]
    },
    {
      "cell_type": "code",
      "execution_count": null,
      "metadata": {
        "id": "Eo-o64zpCnBi"
      },
      "outputs": [],
      "source": []
    },
    {
      "cell_type": "markdown",
      "source": [
        "PANDAS QUESTIONS:-\n",
        "\n",
        "1. https://www.machinelearningplus.com/python/101-pandas-exercises-python/\n",
        "\n",
        "2. https://www.mlstack.cafe/blog/pandas-python-interview-questions\n",
        "\n"
      ],
      "metadata": {
        "id": "OCl6f4e_Ct7I"
      }
    },
    {
      "cell_type": "markdown",
      "source": [
        "FOR PRACTICING PYTHON:-\n",
        "\n",
        "https://www.w3resource.com/python-exercises/pandas/index.php"
      ],
      "metadata": {
        "id": "tgI9-27ZCQd7"
      }
    },
    {
      "cell_type": "markdown",
      "source": [
        "NUMPY IMPORTANT QUESTIONS:-\n",
        "\n",
        "https://www.machinelearningplus.com/python/101-numpy-exercises-python/"
      ],
      "metadata": {
        "id": "IpXpm9VH_jMM"
      }
    },
    {
      "cell_type": "markdown",
      "source": [
        "OOPS:-\n",
        "\n",
        "https://www.machinelearningplus.com/python/object-oriented-programming-oops-in-python/"
      ],
      "metadata": {
        "id": "nQK2QMG1DpGr"
      }
    },
    {
      "cell_type": "markdown",
      "source": [
        "SQL QUESTIONS:-\n",
        "\n",
        "1. https://www.techbeamers.com/sql-query-questions-answers-for-practice/#sample-table-8211-worker\n",
        "\n",
        "2. https://artoftesting.com/sql-queries-for-interview"
      ],
      "metadata": {
        "id": "GSladE18FvwV"
      }
    },
    {
      "cell_type": "markdown",
      "source": [],
      "metadata": {
        "id": "5jd_dbHDF0Yr"
      }
    }
  ]
}